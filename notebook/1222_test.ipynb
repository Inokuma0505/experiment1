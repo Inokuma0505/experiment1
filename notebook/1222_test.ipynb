{
 "cells": [
  {
   "cell_type": "code",
   "execution_count": 1,
   "metadata": {},
   "outputs": [],
   "source": [
    "import matplotlib.pyplot as plt\n",
    "import numpy as np\n",
    "from sklearn.linear_model import LinearRegression\n",
    "from sklearn.multioutput import MultiOutputRegressor\n",
    "from sklearn.model_selection import KFold\n",
    "from sklearn.model_selection import train_test_split\n",
    "from numpy.typing import NDArray\n",
    "from scipy.optimize import minimize\n",
    "from typing import List, Tuple\n",
    "import time as time\n",
    "import pandas as pd\n"
   ]
  },
  {
   "cell_type": "code",
   "execution_count": 2,
   "metadata": {},
   "outputs": [
    {
     "name": "stdout",
     "output_type": "stream",
     "text": [
      "    Unnamed: 0   SO        PO   True PO        CV       EBZ  True EBZ  \\\n",
      "0            0  1.0  1.009021  0.958842  0.730269  0.989190  0.968200   \n",
      "1            1  1.0  1.124731  0.939955  0.655077  1.042393  0.940734   \n",
      "2            2  1.0  1.114703  0.879274  0.681093  1.051754  0.892321   \n",
      "3            3  1.0  1.233484  0.925198  1.010556  1.167511  0.955377   \n",
      "4            4  1.0  1.186111  0.728494  1.021136  1.166859  0.722000   \n",
      "..         ...  ...       ...       ...       ...       ...       ...   \n",
      "95          95  1.0  1.311464  0.768169  1.132604  1.273183  0.858135   \n",
      "96          96  1.0  1.212948  0.851724  0.964061  1.144929  0.904885   \n",
      "97          97  1.0  1.090486  0.909553  0.522908  1.031562  0.937256   \n",
      "98          98  1.0  1.060633  0.961569  0.791406  1.042343  0.960321   \n",
      "99          99  1.0  1.133730  0.930767  0.849216  1.084748  0.927418   \n",
      "\n",
      "      CV EBZ       EBP  True EBP    CV EBP      EBPA  True EBPA   CV EBPA  \\\n",
      "0   0.989989  0.989190  0.968200  0.989989  0.989407   0.950479  0.987359   \n",
      "1   1.024271  1.042393  0.940734  1.024271  1.038515   0.916618  1.058386   \n",
      "2   0.994157  1.051754  0.892321  0.994157  1.057017   0.910951  1.033638   \n",
      "3   1.108322  1.167511  0.955377  1.108322  1.169320   0.897219  1.200766   \n",
      "4   1.146664  1.166859  0.722000  1.146664  1.157502   0.693005  1.164681   \n",
      "..       ...       ...       ...       ...       ...        ...       ...   \n",
      "95  1.208139  1.273183  0.858135  1.208139  1.272143   0.864645  1.208179   \n",
      "96  1.178584  1.144929  0.904885  1.178584  1.156337   0.881463  1.188435   \n",
      "97  1.008903  1.031562  0.937256  1.008903  1.031941   0.947217  1.018939   \n",
      "98  1.010588  1.042343  0.960321  1.010588  1.036417   0.950960  1.037550   \n",
      "99  1.095378  1.084748  0.927418  1.095378  1.095738   0.933490  1.092903   \n",
      "\n",
      "       EBPA2  True EBPA2  CV EBPA2  \n",
      "0   1.009021    0.958842  0.730269  \n",
      "1   1.124731    0.939955  0.655077  \n",
      "2   1.114703    0.879274  0.681093  \n",
      "3   1.233484    0.925198  1.010556  \n",
      "4   1.186111    0.728494  1.021136  \n",
      "..       ...         ...       ...  \n",
      "95  1.311464    0.768169  1.132604  \n",
      "96  1.212948    0.851724  0.964061  \n",
      "97  1.090486    0.909553  0.522908  \n",
      "98  1.060633    0.961569  0.791406  \n",
      "99  1.133730    0.930767  0.849216  \n",
      "\n",
      "[100 rows x 17 columns]\n"
     ]
    }
   ],
   "source": [
    "# result_10_250 = pd.read_csv('result_10_250.csv')を読み込む\n",
    "result_10_250 = pd.read_csv(\"result_10_250.csv\")\n",
    "\n",
    "# result_10_250のデータを表示\n",
    "print(result_10_250)\n"
   ]
  },
  {
   "cell_type": "code",
   "execution_count": 3,
   "metadata": {},
   "outputs": [
    {
     "name": "stdout",
     "output_type": "stream",
     "text": [
      "Index(['Unnamed: 0', 'SO', 'PO', 'True PO', 'CV', 'EBZ', 'True EBZ', 'CV EBZ',\n",
      "       'EBP', 'True EBP', 'CV EBP', 'EBPA', 'True EBPA', 'CV EBPA', 'EBPA2',\n",
      "       'True EBPA2', 'CV EBPA2'],\n",
      "      dtype='object')\n"
     ]
    }
   ],
   "source": [
    "# result_10_250のデータのカラム名を表示\n",
    "print(result_10_250.columns)\n"
   ]
  },
  {
   "cell_type": "code",
   "execution_count": 4,
   "metadata": {},
   "outputs": [],
   "source": [
    "# SO', 'PO', 'True PO', 'CV', 'EBZ', 'True EBZ', 'CV EBZ',を取り出す\n",
    "result_10_250 = result_10_250[[\"SO\", \"PO\", \"True PO\", \"CV\", \"EBZ\", \"True EBZ\", \"CV EBZ\"]]\n"
   ]
  },
  {
   "cell_type": "code",
   "execution_count": 5,
   "metadata": {},
   "outputs": [
    {
     "name": "stdout",
     "output_type": "stream",
     "text": [
      "     SO        PO   True PO        CV       EBZ  True EBZ    CV EBZ\n",
      "0   1.0  1.009021  0.958842  0.730269  0.989190  0.968200  0.989989\n",
      "1   1.0  1.124731  0.939955  0.655077  1.042393  0.940734  1.024271\n",
      "2   1.0  1.114703  0.879274  0.681093  1.051754  0.892321  0.994157\n",
      "3   1.0  1.233484  0.925198  1.010556  1.167511  0.955377  1.108322\n",
      "4   1.0  1.186111  0.728494  1.021136  1.166859  0.722000  1.146664\n",
      "..  ...       ...       ...       ...       ...       ...       ...\n",
      "95  1.0  1.311464  0.768169  1.132604  1.273183  0.858135  1.208139\n",
      "96  1.0  1.212948  0.851724  0.964061  1.144929  0.904885  1.178584\n",
      "97  1.0  1.090486  0.909553  0.522908  1.031562  0.937256  1.008903\n",
      "98  1.0  1.060633  0.961569  0.791406  1.042343  0.960321  1.010588\n",
      "99  1.0  1.133730  0.930767  0.849216  1.084748  0.927418  1.095378\n",
      "\n",
      "[100 rows x 7 columns]\n"
     ]
    }
   ],
   "source": [
    "# result_10_250のデータを表示\n",
    "print(result_10_250)\n"
   ]
  },
  {
   "cell_type": "code",
   "execution_count": 8,
   "metadata": {},
   "outputs": [
    {
     "data": {
      "image/png": "[encoded data removed]",
      "text/plain": [
       "<Figure size 640x480 with 1 Axes>"
      ]
     },
     "metadata": {},
     "output_type": "display_data"
    }
   ],
   "source": [
    "# 各列の平均とエラーバーを取得\n",
    "mean = result_10_250.mean()\n",
    "std = result_10_250.std()\n",
    "\n",
    "# 平均とエラーバーを棒グラフで表示\n",
    "plt.bar(mean.index, mean, yerr=std, capsize=4)\n",
    "plt.yscale(\"log\")\n",
    "plt.show()\n"
   ]
  },
  {
   "cell_type": "code",
   "execution_count": null,
   "metadata": {},
   "outputs": [],
   "source": []
  }
 ],
 "metadata": {
  "kernelspec": {
   "display_name": ".venv",
   "language": "python",
   "name": "python3"
  },
  "language_info": {
   "codemirror_mode": {
    "name": "ipython",
    "version": 3
   },
   "file_extension": ".py",
   "mimetype": "text/x-python",
   "name": "python",
   "nbconvert_exporter": "python",
   "pygments_lexer": "ipython3",
   "version": "3.10.13"
  }
 },
 "nbformat": 4,
 "nbformat_minor": 2
}
