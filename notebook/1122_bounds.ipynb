{
 "cells": [
  {
   "cell_type": "code",
   "execution_count": 1,
   "metadata": {},
   "outputs": [],
   "source": [
    "import matplotlib.pyplot as plt\n",
    "import numpy as np\n",
    "from numpy.typing import NDArray\n",
    "from sklearn.linear_model import LinearRegression\n",
    "from sklearn.model_selection import KFold, train_test_split\n",
    "from sklearn.multioutput import MultiOutputRegressor\n",
    "import pandas as pd\n",
    "from scipy.optimize import minimize\n",
    "import gurobipy as gp\n",
    "from gurobipy import GRB\n",
    "import time\n"
   ]
  },
  {
   "cell_type": "code",
   "execution_count": 2,
   "metadata": {},
   "outputs": [],
   "source": [
    "# 価格を生成する関数\n",
    "def create_price(r_min: float, r_max: float, M: int) -> NDArray[np.float_]:\n",
    "    # r_minとr_maxの間のランダムな0.1刻みの少数をM個生成\n",
    "    price = np.random.uniform(r_min, r_max, M)\n",
    "    price = np.round(price, 1)\n",
    "\n",
    "    return price\n",
    "\n",
    "\n",
    "# alphaを作成する関数\n",
    "def alpha_star(M: int) -> NDArray[np.float_]:\n",
    "    alpha_star = np.random.uniform(M, 3 * M, size=M)\n",
    "    return alpha_star\n",
    "\n",
    "\n",
    "# betaを作成する関数\n",
    "def beta_star(M: int, M_prime: int) -> NDArray[np.float_]:\n",
    "    beta_star = np.zeros((M, M_prime))\n",
    "\n",
    "    for m in range(M):\n",
    "        for m_prime in range(M_prime):\n",
    "            if m == m_prime:\n",
    "                beta_star[m, m_prime] = np.random.uniform(-2 * M, -M)\n",
    "            else:\n",
    "                beta_star[m, m_prime] = np.random.uniform(0, 1)\n",
    "\n",
    "    return beta_star\n",
    "\n",
    "\n",
    "def quantity_function(\n",
    "    price: NDArray[np.float_],\n",
    "    alpha: NDArray[np.float_],\n",
    "    beta: NDArray[np.float_],\n",
    "    delta: float = 0.1,  # ノイズレベルを指定（例として0.1を使用）\n",
    ") -> list[float]:\n",
    "    M = len(price)\n",
    "    quantity_list = []\n",
    "    q_m_no_noise = []\n",
    "\n",
    "    # ステップ1: ノイズなしのq_mを計算\n",
    "    for m in range(M):\n",
    "        sum_beta = 0\n",
    "        for m_prime in range(M):\n",
    "            sum_beta += beta[m][m_prime] * price[m_prime]\n",
    "        quantity = alpha[m] + sum_beta\n",
    "        q_m_no_noise.append(quantity)\n",
    "\n",
    "    # E[q_m^2]を計算\n",
    "    E_q_m_squared = np.mean(np.array(q_m_no_noise) ** 2)\n",
    "\n",
    "    # ステップ2: ノイズの標準偏差sigmaを計算\n",
    "    sigma = delta * np.sqrt(E_q_m_squared)\n",
    "\n",
    "    # ステップ3: ノイズを加えて最終的なq_mを計算\n",
    "    for m in range(M):\n",
    "        epsilon = np.random.normal(0, sigma)\n",
    "        quantity = q_m_no_noise[m] + epsilon\n",
    "        quantity_list.append(quantity)\n",
    "\n",
    "    return quantity_list\n",
    "\n",
    "\n",
    "def sales_function(\n",
    "    price: NDArray[np.float_], alpha: NDArray[np.float_], beta: NDArray[np.float_]\n",
    ") -> list[float]:\n",
    "    M = len(price)\n",
    "    sales_list = []\n",
    "\n",
    "    for m in range(M):\n",
    "        sum_beta = 0\n",
    "        for m_prime in range(M):\n",
    "            sum_beta += beta[m][m_prime] * price[m_prime]\n",
    "\n",
    "        quantity = alpha[m] + sum_beta\n",
    "        sales_list.append(quantity * price[m])\n",
    "\n",
    "    return sales_list\n"
   ]
  },
  {
   "cell_type": "code",
   "execution_count": 3,
   "metadata": {},
   "outputs": [],
   "source": [
    "# 目的関数を定義（最大化問題を最小化問題に変換）\n",
    "def sales_objective_function(prices, alpha, beta, M):\n",
    "    return -sum(\n",
    "        prices[m] * (alpha[m] + sum(beta[m][m_prime] * prices[m_prime] for m_prime in range(M)))\n",
    "        for m in range(M)\n",
    "    )\n"
   ]
  },
  {
   "cell_type": "code",
   "execution_count": 4,
   "metadata": {},
   "outputs": [],
   "source": [
    "def sales_optimize(\n",
    "    M: int,\n",
    "    alpha: np.ndarray,\n",
    "    beta: np.ndarray,\n",
    "    prices_list: list[float],\n",
    ") -> tuple[float, np.ndarray]:\n",
    "    # 初期値として与えられたprices_listを使用\n",
    "    initial_prices = np.full(M, 0.6)\n",
    "    # 各価格の範囲を設定（0.6から1.0）\n",
    "    bounds = [(0.6, 1.0) for _ in range(M)]\n",
    "    # 最適化を実行\n",
    "    result = minimize(\n",
    "        sales_objective_function,\n",
    "        initial_prices,\n",
    "        args=(alpha, beta, M),\n",
    "        bounds=bounds,\n",
    "        method=\"L-BFGS-B\",\n",
    "    )\n",
    "    # 最適な価格と目的関数の値を取得\n",
    "    optimal_prices = result.x\n",
    "    optimal_value = -result.fun  # 符号を反転して元の最大化問題の値に戻す\n",
    "    return optimal_value, optimal_prices\n"
   ]
  },
  {
   "cell_type": "code",
   "execution_count": 5,
   "metadata": {},
   "outputs": [],
   "source": [
    "# 目的関数を定義\n",
    "def predict_objective_function(\n",
    "    prices: NDArray[np.float_], intercepts: [float], coefs: [NDArray[np.float_]], M: int\n",
    ") -> float:\n",
    "    # 各変数の内容をデバッグ出力\n",
    "    # print(\"prices:\", prices)\n",
    "    # print(\"intercepts:\", intercepts)\n",
    "    # print(\"coefs:\", coefs)\n",
    "    # print(\"M:\", M)\n",
    "\n",
    "    return -sum(\n",
    "        prices[m]\n",
    "        * (intercepts[m] + sum(coefs[m][m_prime] * prices[m_prime] for m_prime in range(M)))\n",
    "        for m in range(M)\n",
    "    )\n"
   ]
  },
  {
   "cell_type": "code",
   "execution_count": 16,
   "metadata": {},
   "outputs": [],
   "source": [
    "# 予測と最適化を行う関数\n",
    "def lb_predict_optimize(\n",
    "    lb: list[float], M: int, X: NDArray[np.float_], Y: NDArray[np.float_]\n",
    ") -> tuple[float, NDArray[np.float_]]:\n",
    "    lr = MultiOutputRegressor(LinearRegression())\n",
    "    lr.fit(X, Y)\n",
    "    # 係数と切片を取得\n",
    "    coefs = [estimate.coef_ for estimate in lr.estimators_]\n",
    "    intercepts = [estimate.intercept_ for estimate in lr.estimators_]\n",
    "\n",
    "    # 初期値として与えられたprices_listを使用\n",
    "    initial_prices = np.full(M, 0.6)\n",
    "    # 各価格の範囲を設定（0.6から1.0）\n",
    "    bounds = [(lb[m], 1.0) for m in range(M)]\n",
    "    # 最適化を実行\n",
    "    result = minimize(\n",
    "        predict_objective_function,\n",
    "        initial_prices,\n",
    "        args=(intercepts, coefs, M),\n",
    "        bounds=bounds,\n",
    "        method=\"L-BFGS-B\",\n",
    "    )\n",
    "    # 最適な価格と目的関数の値を取得\n",
    "    optimal_prices = result.x\n",
    "    optimal_value = -result.fun  # 符号を反転して元の最大化問題の値に戻す\n",
    "    return -optimal_value\n"
   ]
  },
  {
   "cell_type": "code",
   "execution_count": 36,
   "metadata": {},
   "outputs": [],
   "source": [
    "M = 20\n",
    "alpha = alpha_star(M)\n",
    "beta = beta_star(M, M)\n",
    "r_m = 0.6\n",
    "r_M = 1.0\n",
    "# 価格を入れるリスト\n",
    "price_list = []\n",
    "# 売上を入れるリスト\n",
    "quantity_list = []\n",
    "\n",
    "# 価格と対応する売上を500件生成\n",
    "for i in range(500):\n",
    "    price = create_price(r_m, r_M, M)\n",
    "    price_list.append(price)\n",
    "    quantity = quantity_function(price, alpha, beta)\n",
    "    quantity_list.append(quantity)\n",
    "\n",
    "X = np.array(price_list).astype(float)\n",
    "y = np.array(quantity_list).astype(float)\n",
    "\n",
    "z = [0.6, 0.7, 0.8, 0.9, 1.0]\n",
    "\n",
    "lb = [0.6 for _ in range(M)]\n"
   ]
  },
  {
   "cell_type": "code",
   "execution_count": 29,
   "metadata": {},
   "outputs": [],
   "source": [
    "result_bounds = minimize(\n",
    "    lb_predict_optimize,\n",
    "    lb,\n",
    "    args=(M, X, y),\n",
    "    bounds=[(0.6, 1.0) for _ in range(M)],\n",
    "    method=\"Nelder-Mead\",\n",
    "    options={\"adaptive\": True},\n",
    ")\n"
   ]
  },
  {
   "cell_type": "code",
   "execution_count": 27,
   "metadata": {},
   "outputs": [
    {
     "data": {
      "text/plain": [
       "array([ 0.60022287,  0.59879883,  0.6011289 ,  0.60025579,  0.59982033,\n",
       "        0.59931362, -0.3999958 ,  0.60041439,  0.60095604,  0.60134882])"
      ]
     },
     "execution_count": 27,
     "metadata": {},
     "output_type": "execute_result"
    }
   ],
   "source": [
    "result_bounds.x"
   ]
  },
  {
   "cell_type": "code",
   "execution_count": 28,
   "metadata": {},
   "outputs": [
    {
     "data": {
      "text/plain": [
       "-91.37063752589485"
      ]
     },
     "execution_count": 28,
     "metadata": {},
     "output_type": "execute_result"
    }
   ],
   "source": [
    "result_bounds.fun"
   ]
  },
  {
   "cell_type": "code",
   "execution_count": 30,
   "metadata": {},
   "outputs": [
    {
     "data": {
      "text/plain": [
       "array([0.6552004 , 0.64478683, 0.6       , 0.75544539, 0.60300609,\n",
       "       0.6246599 , 0.6       , 0.60308886, 0.61149259, 0.60077402])"
      ]
     },
     "execution_count": 30,
     "metadata": {},
     "output_type": "execute_result"
    }
   ],
   "source": [
    "result_bounds.x"
   ]
  },
  {
   "cell_type": "code",
   "execution_count": 31,
   "metadata": {},
   "outputs": [
    {
     "data": {
      "text/plain": [
       "-91.36214143838058"
      ]
     },
     "execution_count": 31,
     "metadata": {},
     "output_type": "execute_result"
    }
   ],
   "source": [
    "result_bounds.fun"
   ]
  },
  {
   "cell_type": "code",
   "execution_count": 32,
   "metadata": {},
   "outputs": [],
   "source": [
    "def lb_estimate_Nelder(lb, M, X, y):\n",
    "    result_bounds = minimize(\n",
    "        lb_predict_optimize,\n",
    "        lb,\n",
    "        args=(M, X, y),\n",
    "        bounds=[(0.6, 1.0) for _ in range(M)],\n",
    "        method=\"Nelder-Mead\",\n",
    "        options={\"adaptive\": True},\n",
    "    )\n",
    "    return result_bounds.x, -result_bounds.fun\n"
   ]
  },
  {
   "cell_type": "code",
   "execution_count": 33,
   "metadata": {},
   "outputs": [],
   "source": [
    "def lb_estimate_BFGS(lb, M, X, y):\n",
    "    result_bounds = minimize(\n",
    "        lb_predict_optimize,\n",
    "        lb,\n",
    "        args=(M, X, y),\n",
    "        bounds=[(0.6, 1.0) for _ in range(M)],\n",
    "        method=\"L-BFGS-B\",\n",
    "    )\n",
    "    return result_bounds.x, -result_bounds.fun\n"
   ]
  },
  {
   "cell_type": "code",
   "execution_count": 37,
   "metadata": {},
   "outputs": [
    {
     "data": {
      "text/plain": [
       "(array([0.60034233, 0.60223527, 0.60097341, 0.60020894, 0.60341841,\n",
       "        0.60195544, 0.60015346, 0.6       , 0.60347215, 0.60037698,\n",
       "        0.62079403, 0.60084868, 0.60400414, 0.60042754, 0.60123831,\n",
       "        0.61984668, 0.60202102, 0.60178287, 0.60392014, 0.60016279]),\n",
       " 465.3369952147665)"
      ]
     },
     "execution_count": 37,
     "metadata": {},
     "output_type": "execute_result"
    }
   ],
   "source": [
    "lb_estimate_Nelder(lb, M, X, y)"
   ]
  },
  {
   "cell_type": "code",
   "execution_count": 38,
   "metadata": {},
   "outputs": [
    {
     "data": {
      "text/plain": [
       "(array([0.60000028, 0.60000022, 0.60000019, 0.60000018, 0.60000015,\n",
       "        0.60000013, 0.60000016, 0.6       , 0.60000006, 0.60000043,\n",
       "        0.60000031, 0.6000003 , 0.60000015, 0.60000023, 0.60000006,\n",
       "        0.6       , 0.60000032, 0.6       , 0.6000002 , 0.60000012]),\n",
       " 465.33699521463467)"
      ]
     },
     "execution_count": 38,
     "metadata": {},
     "output_type": "execute_result"
    }
   ],
   "source": [
    "lb_estimate_BFGS(lb, M, X, y)"
   ]
  },
  {
   "cell_type": "code",
   "execution_count": null,
   "metadata": {},
   "outputs": [],
   "source": []
  }
 ],
 "metadata": {
  "kernelspec": {
   "display_name": ".venv",
   "language": "python",
   "name": "python3"
  },
  "language_info": {
   "codemirror_mode": {
    "name": "ipython",
    "version": 3
   },
   "file_extension": ".py",
   "mimetype": "text/x-python",
   "name": "python",
   "nbconvert_exporter": "python",
   "pygments_lexer": "ipython3",
   "version": "3.10.13"
  }
 },
 "nbformat": 4,
 "nbformat_minor": 2
}
