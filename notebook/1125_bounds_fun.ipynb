{
 "cells": [
  {
   "cell_type": "code",
   "execution_count": 1,
   "metadata": {},
   "outputs": [],
   "source": [
    "import matplotlib.pyplot as plt\n",
    "import numpy as np\n",
    "from numpy.typing import NDArray\n",
    "from sklearn.linear_model import LinearRegression\n",
    "from sklearn.model_selection import KFold, train_test_split\n",
    "from sklearn.multioutput import MultiOutputRegressor\n",
    "import pandas as pd\n",
    "from scipy.optimize import minimize\n",
    "import gurobipy as gp\n",
    "from gurobipy import GRB\n",
    "import time"
   ]
  },
  {
   "cell_type": "code",
   "execution_count": 2,
   "metadata": {},
   "outputs": [],
   "source": [
    "# 価格を生成する関数\n",
    "def create_price(r_min: float, r_max: float, M: int) -> NDArray[np.float_]:\n",
    "    # r_minとr_maxの間のランダムな0.1刻みの少数をM個生成\n",
    "    price = np.random.uniform(r_min, r_max, M)\n",
    "    price = np.round(price, 1)\n",
    "\n",
    "    return price\n",
    "\n",
    "\n",
    "# alphaを作成する関数\n",
    "def alpha_star(M: int) -> NDArray[np.float_]:\n",
    "    alpha_star = np.random.uniform(M, 3 * M, size=M)\n",
    "    return alpha_star\n",
    "\n",
    "\n",
    "# betaを作成する関数\n",
    "def beta_star(M: int, M_prime: int) -> NDArray[np.float_]:\n",
    "    beta_star = np.zeros((M, M_prime))\n",
    "\n",
    "    for m in range(M):\n",
    "        for m_prime in range(M_prime):\n",
    "            if m == m_prime:\n",
    "                beta_star[m, m_prime] = np.random.uniform(-2 * M, -M)\n",
    "            else:\n",
    "                beta_star[m, m_prime] = np.random.uniform(0, 1)\n",
    "\n",
    "    return beta_star\n",
    "\n",
    "\n",
    "def quantity_function(\n",
    "    price: NDArray[np.float_],\n",
    "    alpha: NDArray[np.float_],\n",
    "    beta: NDArray[np.float_],\n",
    "    delta: float = 0.1,  # ノイズレベルを指定（例として0.1を使用）\n",
    ") -> list[float]:\n",
    "    M = len(price)\n",
    "    quantity_list = []\n",
    "    q_m_no_noise = []\n",
    "\n",
    "    # ステップ1: ノイズなしのq_mを計算\n",
    "    for m in range(M):\n",
    "        sum_beta = 0\n",
    "        for m_prime in range(M):\n",
    "            sum_beta += beta[m][m_prime] * price[m_prime]\n",
    "        quantity = alpha[m] + sum_beta\n",
    "        q_m_no_noise.append(quantity)\n",
    "\n",
    "    # E[q_m^2]を計算\n",
    "    E_q_m_squared = np.mean(np.array(q_m_no_noise) ** 2)\n",
    "\n",
    "    # ステップ2: ノイズの標準偏差sigmaを計算\n",
    "    sigma = delta * np.sqrt(E_q_m_squared)\n",
    "\n",
    "    # ステップ3: ノイズを加えて最終的なq_mを計算\n",
    "    for m in range(M):\n",
    "        epsilon = np.random.normal(0, sigma)\n",
    "        quantity = q_m_no_noise[m] + epsilon\n",
    "        quantity_list.append(quantity)\n",
    "\n",
    "    return quantity_list\n",
    "\n",
    "\n",
    "def sales_function(\n",
    "    price: NDArray[np.float_], alpha: NDArray[np.float_], beta: NDArray[np.float_]\n",
    ") -> list[float]:\n",
    "    M = len(price)\n",
    "    sales_list = []\n",
    "\n",
    "    for m in range(M):\n",
    "        sum_beta = 0\n",
    "        for m_prime in range(M):\n",
    "            sum_beta += beta[m][m_prime] * price[m_prime]\n",
    "\n",
    "        quantity = alpha[m] + sum_beta\n",
    "        sales_list.append(quantity * price[m])\n",
    "\n",
    "    return sales_list"
   ]
  },
  {
   "cell_type": "code",
   "execution_count": 3,
   "metadata": {},
   "outputs": [],
   "source": [
    "# 目的関数を定義（最大化問題を最小化問題に変換）\n",
    "def sales_objective_function(prices, alpha, beta, M):\n",
    "    return -sum(\n",
    "        prices[m] * (alpha[m] + sum(beta[m][m_prime] * prices[m_prime] for m_prime in range(M)))\n",
    "        for m in range(M)\n",
    "    )"
   ]
  },
  {
   "cell_type": "code",
   "execution_count": 4,
   "metadata": {},
   "outputs": [],
   "source": [
    "def sales_optimize(\n",
    "    M: int,\n",
    "    alpha: np.ndarray,\n",
    "    beta: np.ndarray,\n",
    "    prices_list: list[float],\n",
    ") -> tuple[float, np.ndarray]:\n",
    "    # 初期値として与えられたprices_listを使用\n",
    "    initial_prices = np.full(M, 0.6)\n",
    "    # 各価格の範囲を設定（0.6から1.0）\n",
    "    bounds = [(0.6, 1.0) for _ in range(M)]\n",
    "    # 最適化を実行\n",
    "    result = minimize(\n",
    "        sales_objective_function,\n",
    "        initial_prices,\n",
    "        args=(alpha, beta, M),\n",
    "        bounds=bounds,\n",
    "        method=\"L-BFGS-B\",\n",
    "    )\n",
    "    # 最適な価格と目的関数の値を取得\n",
    "    optimal_prices = result.x\n",
    "    optimal_value = -result.fun  # 符号を反転して元の最大化問題の値に戻す\n",
    "    return optimal_value, optimal_prices"
   ]
  },
  {
   "cell_type": "code",
   "execution_count": 5,
   "metadata": {},
   "outputs": [],
   "source": [
    "# 目的関数を定義\n",
    "def predict_objective_function(\n",
    "    prices: NDArray[np.float_], intercepts: [float], coefs: [NDArray[np.float_]], M: int\n",
    ") -> float:\n",
    "    # 各変数の内容をデバッグ出力\n",
    "    # print(\"prices:\", prices)\n",
    "    # print(\"intercepts:\", intercepts)\n",
    "    # print(\"coefs:\", coefs)\n",
    "    # print(\"M:\", M)\n",
    "\n",
    "    return -sum(\n",
    "        prices[m]\n",
    "        * (intercepts[m] + sum(coefs[m][m_prime] * prices[m_prime] for m_prime in range(M)))\n",
    "        for m in range(M)\n",
    "    )\n"
   ]
  },
  {
   "cell_type": "code",
   "execution_count": 6,
   "metadata": {},
   "outputs": [],
   "source": [
    "# 予測と最適化を行う関数\n",
    "def lb_predict_optimize(\n",
    "    lb: list[float], M: int, X: NDArray[np.float_], Y: NDArray[np.float_]\n",
    ") -> tuple[float, NDArray[np.float_]]:\n",
    "    lr = MultiOutputRegressor(LinearRegression())\n",
    "    lr.fit(X, Y)\n",
    "    # 係数と切片を取得\n",
    "    coefs = [estimate.coef_ for estimate in lr.estimators_]\n",
    "    intercepts = [estimate.intercept_ for estimate in lr.estimators_]\n",
    "\n",
    "    # 初期値として与えられたprices_listを使用\n",
    "    initial_prices = np.full(M, 0.6)\n",
    "    # 各価格の範囲を設定（0.6から1.0）\n",
    "    bounds = [(lb[m], 1.0) for m in range(M)]\n",
    "    # 最適化を実行\n",
    "    result = minimize(\n",
    "        predict_objective_function,\n",
    "        initial_prices,\n",
    "        args=(intercepts, coefs, M),\n",
    "        bounds=bounds,\n",
    "        method=\"L-BFGS-B\",\n",
    "    )\n",
    "    # 最適な価格と目的関数の値を取得\n",
    "    optimal_prices = result.x\n",
    "    optimal_value = -result.fun  # 符号を反転して元の最大化問題の値に戻す\n",
    "    return -optimal_value\n"
   ]
  },
  {
   "cell_type": "code",
   "execution_count": 7,
   "metadata": {},
   "outputs": [],
   "source": [
    "# CVを行う関数\n",
    "def cross_validation_lb(\n",
    "    lb: list[float],\n",
    "    X: NDArray[np.float_],\n",
    "    y: NDArray[np.float_],\n",
    "    M: int,\n",
    "    K: int,\n",
    "    prices_list: list[float],\n",
    ") -> float:\n",
    "    kf = KFold(n_splits=K, shuffle=True, random_state=0)\n",
    "    optimal_sales_list = []\n",
    "\n",
    "    bounds = [(lb[m], 1.0) for m in range(M)]\n",
    "\n",
    "    for train_index, test_index in kf.split(X):\n",
    "        X_train, X_test = X[train_index], X[test_index]\n",
    "        y_train, y_test = y[train_index], y[test_index]\n",
    "\n",
    "        # trainで学習\n",
    "        lr_tilda = MultiOutputRegressor(LinearRegression())\n",
    "\n",
    "        # 係数、切片を取得\n",
    "        lr_tilda.fit(X_train, y_train)\n",
    "        coefs = [estimate.coef_ for estimate in lr_tilda.estimators_]\n",
    "        intercepts = [estimate.intercept_ for estimate in lr_tilda.estimators_]\n",
    "\n",
    "        # 初期値として与えられたprices_listを使用\n",
    "        initial_prices = np.full(M, 0.6)\n",
    "        # 各価格の範囲を設定（0.6から1.0）\n",
    "\n",
    "        # 最適化を実行\n",
    "        result = minimize(\n",
    "            predict_objective_function,\n",
    "            initial_prices,\n",
    "            args=(intercepts, coefs, M),\n",
    "            bounds=bounds,\n",
    "            method=\"L-BFGS-B\",\n",
    "        )\n",
    "        # 最適な価格と目的関数の値を取得\n",
    "        optimal_prices = result.x\n",
    "\n",
    "        # testで学習\n",
    "        lr_hat = MultiOutputRegressor(LinearRegression())\n",
    "        lr_hat.fit(X_test, y_test)\n",
    "\n",
    "        quantity_hat = lr_hat.predict([optimal_prices])\n",
    "        sales_hat = np.sum(quantity_hat * optimal_prices)\n",
    "\n",
    "        optimal_sales_list.append(sales_hat)\n",
    "\n",
    "    return -np.mean(optimal_sales_list)\n"
   ]
  },
  {
   "cell_type": "code",
   "execution_count": 8,
   "metadata": {},
   "outputs": [],
   "source": [
    "def esitimate_lb_nelder(lb, M, X, y, K, z, adaptive=True):\n",
    "    # adaptive=Trueの場合、optionsにadaptive=Trueを指定\n",
    "    bounds_nelder = minimize(\n",
    "        cross_validation_lb,\n",
    "        lb,\n",
    "        args=(X, y, M, K, z),\n",
    "        method=\"Nelder-Mead\",\n",
    "        bounds=[(0.6, 1.0) for _ in range(M)],\n",
    "        options={\"adaptive\": adaptive},\n",
    "    )\n",
    "    return bounds_nelder.fun, bounds_nelder.x\n"
   ]
  },
  {
   "cell_type": "code",
   "execution_count": 9,
   "metadata": {},
   "outputs": [],
   "source": [
    "# CVを行う関数\n",
    "def cross_validation_pr(\n",
    "    pr: list[float],\n",
    "    X: NDArray[np.float_],\n",
    "    y: NDArray[np.float_],\n",
    "    M: int,\n",
    "    K: int,\n",
    "    prices_list: list[float],\n",
    ") -> float:\n",
    "    kf = KFold(n_splits=K, shuffle=True, random_state=0)\n",
    "    optimal_sales_list = []\n",
    "\n",
    "    bounds = [(0.6, 1.0) for _ in range(M)]\n",
    "\n",
    "    for train_index, test_index in kf.split(X):\n",
    "        X_train, X_test = X[train_index], X[test_index]\n",
    "        y_train, y_test = y[train_index], y[test_index]\n",
    "\n",
    "        # trainで学習\n",
    "        lr_tilda = MultiOutputRegressor(LinearRegression())\n",
    "\n",
    "        # 係数、切片を取得\n",
    "        lr_tilda.fit(X_train, y_train)\n",
    "        coefs = [estimate.coef_ for estimate in lr_tilda.estimators_]\n",
    "        intercepts = [estimate.intercept_ for estimate in lr_tilda.estimators_]\n",
    "\n",
    "        # 初期値として与えられたprices_listを使用\n",
    "\n",
    "        # 各価格の範囲を設定（0.6から1.0）\n",
    "\n",
    "        # 最適化を実行\n",
    "        result = minimize(\n",
    "            predict_objective_function,\n",
    "            pr,\n",
    "            args=(intercepts, coefs, M),\n",
    "            bounds=bounds,\n",
    "            method=\"L-BFGS-B\",\n",
    "        )\n",
    "        # 最適な価格と目的関数の値を取得\n",
    "        optimal_prices = result.x\n",
    "\n",
    "        # testで学習\n",
    "        lr_hat = MultiOutputRegressor(LinearRegression())\n",
    "        lr_hat.fit(X_test, y_test)\n",
    "\n",
    "        quantity_hat = lr_hat.predict([optimal_prices])\n",
    "        sales_hat = np.sum(quantity_hat * optimal_prices)\n",
    "\n",
    "        optimal_sales_list.append(sales_hat)\n",
    "\n",
    "    return -np.mean(optimal_sales_list)\n"
   ]
  },
  {
   "cell_type": "code",
   "execution_count": 10,
   "metadata": {},
   "outputs": [],
   "source": [
    "# 予測と最適化を行う関数\n",
    "def predict_optimize(\n",
    "    M: int, X: NDArray[np.float_], Y: NDArray[np.float_], prices_list: list[float]\n",
    ") -> tuple[float, NDArray[np.float_]]:\n",
    "    lr = MultiOutputRegressor(LinearRegression())\n",
    "    lr.fit(X, Y)\n",
    "    # 係数と切片を取得\n",
    "    coefs = [estimate.coef_ for estimate in lr.estimators_]\n",
    "    intercepts = [estimate.intercept_ for estimate in lr.estimators_]\n",
    "\n",
    "    # 初期値として与えられたprices_listを使用\n",
    "    initial_prices = np.full(M, 0.6)\n",
    "    # 各価格の範囲を設定（0.6から1.0）\n",
    "    bounds = [(0.6, 1.0) for _ in range(M)]\n",
    "    # 最適化を実行\n",
    "    result = minimize(\n",
    "        predict_objective_function,\n",
    "        initial_prices,\n",
    "        args=(intercepts, coefs, M),\n",
    "        bounds=bounds,\n",
    "        method=\"L-BFGS-B\",\n",
    "    )\n",
    "    # 最適な価格と目的関数の値を取得\n",
    "    optimal_prices = result.x\n",
    "    optimal_value = -result.fun  # 符号を反転して元の最大化問題の値に戻す\n",
    "    return optimal_value, optimal_prices\n"
   ]
  },
  {
   "cell_type": "code",
   "execution_count": 11,
   "metadata": {},
   "outputs": [],
   "source": [
    "# CVを行う関数\n",
    "def cross_validation_ub(\n",
    "    ub: list[float],\n",
    "    X: NDArray[np.float_],\n",
    "    y: NDArray[np.float_],\n",
    "    M: int,\n",
    "    K: int,\n",
    "    prices_list: list[float],\n",
    ") -> float:\n",
    "    kf = KFold(n_splits=K, shuffle=True, random_state=0)\n",
    "    optimal_sales_list = []\n",
    "\n",
    "    bounds = [(0.6, ub[m]) for m in range(M)]\n",
    "\n",
    "    for train_index, test_index in kf.split(X):\n",
    "        X_train, X_test = X[train_index], X[test_index]\n",
    "        y_train, y_test = y[train_index], y[test_index]\n",
    "\n",
    "        # trainで学習\n",
    "        lr_tilda = MultiOutputRegressor(LinearRegression())\n",
    "\n",
    "        # 係数、切片を取得\n",
    "        lr_tilda.fit(X_train, y_train)\n",
    "        coefs = [estimate.coef_ for estimate in lr_tilda.estimators_]\n",
    "        intercepts = [estimate.intercept_ for estimate in lr_tilda.estimators_]\n",
    "\n",
    "        # 初期値として与えられたprices_listを使用\n",
    "        initial_prices = np.full(M, 0.6)\n",
    "        # 各価格の範囲を設定（0.6から1.0）\n",
    "\n",
    "        # 最適化を実行\n",
    "        result = minimize(\n",
    "            predict_objective_function,\n",
    "            initial_prices,\n",
    "            args=(intercepts, coefs, M),\n",
    "            bounds=bounds,\n",
    "            method=\"L-BFGS-B\",\n",
    "        )\n",
    "        # 最適な価格と目的関数の値を取得\n",
    "        optimal_prices = result.x\n",
    "\n",
    "        # testで学習\n",
    "        lr_hat = MultiOutputRegressor(LinearRegression())\n",
    "        lr_hat.fit(X_test, y_test)\n",
    "\n",
    "        quantity_hat = lr_hat.predict([optimal_prices])\n",
    "        sales_hat = np.sum(quantity_hat * optimal_prices)\n",
    "\n",
    "        optimal_sales_list.append(sales_hat)\n",
    "\n",
    "    return -np.mean(optimal_sales_list)\n"
   ]
  },
  {
   "cell_type": "code",
   "execution_count": 12,
   "metadata": {},
   "outputs": [],
   "source": [
    "def esitimate_ub_nelder(ub, M, X, y, K, z, adaptive=True):\n",
    "    # adaptive=Trueの場合、optionsにadaptive=Trueを指定\n",
    "    bounds_nelder = minimize(\n",
    "        cross_validation_lb,\n",
    "        ub,\n",
    "        args=(X, y, M, K, z),\n",
    "        method=\"Nelder-Mead\",\n",
    "        bounds=[(0.6, 1.0) for _ in range(M)],\n",
    "        options={\"adaptive\": adaptive},\n",
    "    )\n",
    "    return bounds_nelder.fun, bounds_nelder.x\n"
   ]
  },
  {
   "cell_type": "code",
   "execution_count": 13,
   "metadata": {},
   "outputs": [],
   "source": [
    "M = 10\n",
    "alpha = alpha_star(M)\n",
    "beta = beta_star(M, M)\n",
    "r_m = 0.6\n",
    "r_M = 1.0\n",
    "# 価格を入れるリスト\n",
    "price_list = []\n",
    "# 売上を入れるリスト\n",
    "quantity_list = []\n",
    "\n",
    "# 価格と対応する売上を500件生成\n",
    "for i in range(500):\n",
    "    price = create_price(r_m, r_M, M)\n",
    "    price_list.append(price)\n",
    "    quantity = quantity_function(price, alpha, beta)\n",
    "    quantity_list.append(quantity)\n",
    "\n",
    "X = np.array(price_list).astype(float)\n",
    "y = np.array(quantity_list).astype(float)\n",
    "\n",
    "z = [0.6, 0.7, 0.8, 0.9, 1.0]\n",
    "\n",
    "lb = [0.6 for _ in range(M)]\n",
    "\n",
    "ub = [1.0 for _ in range(M)]\n"
   ]
  },
  {
   "cell_type": "code",
   "execution_count": 14,
   "metadata": {},
   "outputs": [],
   "source": [
    "estimation_lb_nelder_val, esitimate_lb_nelder_x = esitimate_lb_nelder(lb, M, X, y, 5, z)"
   ]
  },
  {
   "cell_type": "code",
   "execution_count": 15,
   "metadata": {},
   "outputs": [
    {
     "data": {
      "text/plain": [
       "array([0.68609068, 0.61413812, 0.60797715, 0.6       , 0.60434829,\n",
       "       0.60400864, 0.61300925, 0.62507814, 0.60349356, 0.60987243])"
      ]
     },
     "execution_count": 15,
     "metadata": {},
     "output_type": "execute_result"
    }
   ],
   "source": [
    "esitimate_lb_nelder_x"
   ]
  },
  {
   "cell_type": "code",
   "execution_count": 16,
   "metadata": {},
   "outputs": [
    {
     "data": {
      "text/plain": [
       "-122.9272331650398"
      ]
     },
     "execution_count": 16,
     "metadata": {},
     "output_type": "execute_result"
    }
   ],
   "source": [
    "estimation_lb_nelder_val"
   ]
  },
  {
   "cell_type": "code",
   "execution_count": 17,
   "metadata": {},
   "outputs": [],
   "source": [
    "esitimate_ub_nelder_val, esitimate_ub_nelder_x = esitimate_ub_nelder(ub, M, X, y, 5, z)"
   ]
  },
  {
   "cell_type": "code",
   "execution_count": 18,
   "metadata": {},
   "outputs": [
    {
     "data": {
      "text/plain": [
       "-123.25013208862087"
      ]
     },
     "execution_count": 18,
     "metadata": {},
     "output_type": "execute_result"
    }
   ],
   "source": [
    "esitimate_ub_nelder_val"
   ]
  },
  {
   "cell_type": "code",
   "execution_count": 19,
   "metadata": {},
   "outputs": [
    {
     "data": {
      "text/plain": [
       "array([0.68845434, 1.        , 0.82899243, 0.81785957, 0.94876099,\n",
       "       0.95268767, 0.96315393, 0.97071023, 0.88181355, 0.87685327])"
      ]
     },
     "execution_count": 19,
     "metadata": {},
     "output_type": "execute_result"
    }
   ],
   "source": [
    "esitimate_ub_nelder_x"
   ]
  },
  {
   "cell_type": "code",
   "execution_count": null,
   "metadata": {},
   "outputs": [],
   "source": []
  }
 ],
 "metadata": {
  "kernelspec": {
   "display_name": ".venv",
   "language": "python",
   "name": "python3"
  },
  "language_info": {
   "codemirror_mode": {
    "name": "ipython",
    "version": 3
   },
   "file_extension": ".py",
   "mimetype": "text/x-python",
   "name": "python",
   "nbconvert_exporter": "python",
   "pygments_lexer": "ipython3",
   "version": "3.10.13"
  }
 },
 "nbformat": 4,
 "nbformat_minor": 2
}
