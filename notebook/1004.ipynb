{
 "cells": [
  {
   "cell_type": "code",
   "execution_count": 232,
   "metadata": {},
   "outputs": [],
   "source": [
    "import matplotlib.pyplot as plt\n",
    "import numpy as np\n",
    "import pandas as pd\n",
    "from scipy.optimize import minimize\n",
    "from sklearn.linear_model import LinearRegression\n",
    "from sklearn.model_selection import KFold\n",
    "from sklearn.model_selection import train_test_split\n",
    "import gurobipy as gp\n",
    "from gurobipy import GRB"
   ]
  },
  {
   "cell_type": "code",
   "execution_count": 233,
   "metadata": {},
   "outputs": [],
   "source": [
    "# 価格を生成する関数\n",
    "def create_price(r_min, r_max, M):\n",
    "    # r_minとr_maxの間のランダムな0.1刻みの少数をM個生成\n",
    "    price = np.random.uniform(r_min, r_max, M)\n",
    "    price = np.round(price, 1)\n",
    "\n",
    "    return price"
   ]
  },
  {
   "cell_type": "code",
   "execution_count": 234,
   "metadata": {},
   "outputs": [
    {
     "data": {
      "text/plain": [
       "array([1. , 0.7, 0.8, 0.9, 0.8, 0.7, 0.8, 0.7, 0.6, 0.9])"
      ]
     },
     "execution_count": 234,
     "metadata": {},
     "output_type": "execute_result"
    }
   ],
   "source": [
    "create_price(0.6, 1.0, 10)"
   ]
  },
  {
   "cell_type": "code",
   "execution_count": 235,
   "metadata": {},
   "outputs": [],
   "source": [
    "# alphaを作成する関数\n",
    "def alpha_star(M):\n",
    "    alpha_star = np.random.uniform(M, 3 * M, size=M)\n",
    "    return alpha_star"
   ]
  },
  {
   "cell_type": "code",
   "execution_count": 236,
   "metadata": {},
   "outputs": [],
   "source": [
    "# betaを作成する関数\n",
    "def beta_star(M, M_prime):\n",
    "    beta_star = np.zeros((M, M_prime))\n",
    "\n",
    "    for m in range(M):\n",
    "        for m_prime in range(M_prime):\n",
    "            if m == m_prime:\n",
    "                beta_star[m, m_prime] = np.random.uniform(-2 * M, -M)\n",
    "            else:\n",
    "                beta_star[m, m_prime] = np.random.uniform(0, 2)\n",
    "\n",
    "    return beta_star"
   ]
  },
  {
   "cell_type": "code",
   "execution_count": 275,
   "metadata": {},
   "outputs": [],
   "source": [
    "def sales_function(price, alpha, beta):\n",
    "    #\n",
    "    M = len(price)\n",
    "    sales_list = []\n",
    "\n",
    "    for m in range(M):\n",
    "        sum_beta = 0\n",
    "        for m_prime in range(M):\n",
    "            sum_beta += beta[m][m_prime] * price[m_prime]\n",
    "\n",
    "        quantity = alpha[m] + sum_beta\n",
    "        sales_list.append(quantity * price[m])\n",
    "\n",
    "    return sales_list\n"
   ]
  },
  {
   "cell_type": "code",
   "execution_count": null,
   "metadata": {},
   "outputs": [],
   "source": []
  },
  {
   "cell_type": "code",
   "execution_count": 259,
   "metadata": {},
   "outputs": [],
   "source": [
    "# 目的関数の定義（売上の負の値を返す）\n",
    "def objective_function(prices, coef, intercept):\n",
    "    # 価格に基づく売上の予測\n",
    "    sales = 0\n",
    "\n",
    "    for i in range(len(prices)):\n",
    "        sales += coef[i] * prices[i]\n",
    "\n",
    "    sales += intercept\n",
    "\n",
    "    # 売上を最大化するために、負の値を返す（minimizeは最小化を行うため）\n",
    "    return sales"
   ]
  },
  {
   "cell_type": "code",
   "execution_count": 260,
   "metadata": {},
   "outputs": [],
   "source": [
    "M = 20\n",
    "r_m = 0.6\n",
    "r_M = 1.0\n",
    "initial_prices = np.full(M, 0.8)"
   ]
  },
  {
   "cell_type": "code",
   "execution_count": 261,
   "metadata": {},
   "outputs": [],
   "source": [
    "M = 20\n",
    "\n",
    "# このデータにおけるalpha,betaを作成\n",
    "alpha = alpha_star(M)\n",
    "beta = beta_star(M, M)\n",
    "r_m = 0.6\n",
    "r_M = 1.0\n",
    "# 価格を入れるリスト\n",
    "price_list = []\n",
    "# 売上を入れるリスト\n",
    "sales_list = []\n",
    "\n",
    "# 価格と対応する売上を10000件生成\n",
    "for i in range(500):\n",
    "    price = create_price(r_m, r_M, M)\n",
    "    price_list.append(price)\n",
    "    sales = sales_function(price, alpha, beta)\n",
    "    sales_list.append(sales)"
   ]
  },
  {
   "cell_type": "code",
   "execution_count": null,
   "metadata": {},
   "outputs": [],
   "source": [
    "sales_function()"
   ]
  },
  {
   "cell_type": "code",
   "execution_count": 262,
   "metadata": {},
   "outputs": [
    {
     "data": {
      "text/html": [
       "<div>\n",
       "<style scoped>\n",
       "    .dataframe tbody tr th:only-of-type {\n",
       "        vertical-align: middle;\n",
       "    }\n",
       "\n",
       "    .dataframe tbody tr th {\n",
       "        vertical-align: top;\n",
       "    }\n",
       "\n",
       "    .dataframe thead th {\n",
       "        text-align: right;\n",
       "    }\n",
       "</style>\n",
       "<table border=\"1\" class=\"dataframe\">\n",
       "  <thead>\n",
       "    <tr style=\"text-align: right;\">\n",
       "      <th></th>\n",
       "      <th>product_0</th>\n",
       "      <th>product_1</th>\n",
       "      <th>product_2</th>\n",
       "      <th>product_3</th>\n",
       "      <th>product_4</th>\n",
       "      <th>product_5</th>\n",
       "      <th>product_6</th>\n",
       "      <th>product_7</th>\n",
       "      <th>product_8</th>\n",
       "      <th>product_9</th>\n",
       "      <th>...</th>\n",
       "      <th>product_11</th>\n",
       "      <th>product_12</th>\n",
       "      <th>product_13</th>\n",
       "      <th>product_14</th>\n",
       "      <th>product_15</th>\n",
       "      <th>product_16</th>\n",
       "      <th>product_17</th>\n",
       "      <th>product_18</th>\n",
       "      <th>product_19</th>\n",
       "      <th>sales</th>\n",
       "    </tr>\n",
       "  </thead>\n",
       "  <tbody>\n",
       "    <tr>\n",
       "      <th>0</th>\n",
       "      <td>0.9</td>\n",
       "      <td>0.6</td>\n",
       "      <td>0.6</td>\n",
       "      <td>0.7</td>\n",
       "      <td>0.8</td>\n",
       "      <td>0.8</td>\n",
       "      <td>0.8</td>\n",
       "      <td>0.9</td>\n",
       "      <td>1.0</td>\n",
       "      <td>0.9</td>\n",
       "      <td>...</td>\n",
       "      <td>0.8</td>\n",
       "      <td>0.9</td>\n",
       "      <td>0.7</td>\n",
       "      <td>0.8</td>\n",
       "      <td>0.9</td>\n",
       "      <td>0.7</td>\n",
       "      <td>0.8</td>\n",
       "      <td>0.8</td>\n",
       "      <td>0.7</td>\n",
       "      <td>552.778377</td>\n",
       "    </tr>\n",
       "    <tr>\n",
       "      <th>1</th>\n",
       "      <td>1.0</td>\n",
       "      <td>0.7</td>\n",
       "      <td>0.9</td>\n",
       "      <td>0.8</td>\n",
       "      <td>0.9</td>\n",
       "      <td>0.8</td>\n",
       "      <td>0.9</td>\n",
       "      <td>0.8</td>\n",
       "      <td>0.7</td>\n",
       "      <td>0.8</td>\n",
       "      <td>...</td>\n",
       "      <td>0.8</td>\n",
       "      <td>0.8</td>\n",
       "      <td>1.0</td>\n",
       "      <td>0.8</td>\n",
       "      <td>0.6</td>\n",
       "      <td>0.9</td>\n",
       "      <td>0.9</td>\n",
       "      <td>0.7</td>\n",
       "      <td>0.9</td>\n",
       "      <td>571.089023</td>\n",
       "    </tr>\n",
       "    <tr>\n",
       "      <th>2</th>\n",
       "      <td>0.6</td>\n",
       "      <td>0.9</td>\n",
       "      <td>0.9</td>\n",
       "      <td>0.7</td>\n",
       "      <td>0.8</td>\n",
       "      <td>0.6</td>\n",
       "      <td>0.6</td>\n",
       "      <td>0.6</td>\n",
       "      <td>0.8</td>\n",
       "      <td>0.7</td>\n",
       "      <td>...</td>\n",
       "      <td>0.7</td>\n",
       "      <td>0.8</td>\n",
       "      <td>0.7</td>\n",
       "      <td>0.7</td>\n",
       "      <td>1.0</td>\n",
       "      <td>0.8</td>\n",
       "      <td>0.7</td>\n",
       "      <td>1.0</td>\n",
       "      <td>0.7</td>\n",
       "      <td>521.181038</td>\n",
       "    </tr>\n",
       "    <tr>\n",
       "      <th>3</th>\n",
       "      <td>1.0</td>\n",
       "      <td>0.9</td>\n",
       "      <td>0.7</td>\n",
       "      <td>0.7</td>\n",
       "      <td>0.7</td>\n",
       "      <td>0.7</td>\n",
       "      <td>0.9</td>\n",
       "      <td>0.9</td>\n",
       "      <td>1.0</td>\n",
       "      <td>1.0</td>\n",
       "      <td>...</td>\n",
       "      <td>0.7</td>\n",
       "      <td>0.8</td>\n",
       "      <td>0.8</td>\n",
       "      <td>0.7</td>\n",
       "      <td>0.8</td>\n",
       "      <td>0.7</td>\n",
       "      <td>0.6</td>\n",
       "      <td>0.9</td>\n",
       "      <td>0.9</td>\n",
       "      <td>550.292586</td>\n",
       "    </tr>\n",
       "    <tr>\n",
       "      <th>4</th>\n",
       "      <td>0.9</td>\n",
       "      <td>0.9</td>\n",
       "      <td>0.8</td>\n",
       "      <td>0.7</td>\n",
       "      <td>0.9</td>\n",
       "      <td>0.6</td>\n",
       "      <td>0.8</td>\n",
       "      <td>0.8</td>\n",
       "      <td>0.8</td>\n",
       "      <td>0.8</td>\n",
       "      <td>...</td>\n",
       "      <td>0.7</td>\n",
       "      <td>1.0</td>\n",
       "      <td>0.7</td>\n",
       "      <td>0.8</td>\n",
       "      <td>0.7</td>\n",
       "      <td>0.9</td>\n",
       "      <td>0.7</td>\n",
       "      <td>0.6</td>\n",
       "      <td>0.9</td>\n",
       "      <td>548.764655</td>\n",
       "    </tr>\n",
       "  </tbody>\n",
       "</table>\n",
       "<p>5 rows × 21 columns</p>\n",
       "</div>"
      ],
      "text/plain": [
       "   product_0  product_1  product_2  product_3  product_4  product_5  \\\n",
       "0        0.9        0.6        0.6        0.7        0.8        0.8   \n",
       "1        1.0        0.7        0.9        0.8        0.9        0.8   \n",
       "2        0.6        0.9        0.9        0.7        0.8        0.6   \n",
       "3        1.0        0.9        0.7        0.7        0.7        0.7   \n",
       "4        0.9        0.9        0.8        0.7        0.9        0.6   \n",
       "\n",
       "   product_6  product_7  product_8  product_9  ...  product_11  product_12  \\\n",
       "0        0.8        0.9        1.0        0.9  ...         0.8         0.9   \n",
       "1        0.9        0.8        0.7        0.8  ...         0.8         0.8   \n",
       "2        0.6        0.6        0.8        0.7  ...         0.7         0.8   \n",
       "3        0.9        0.9        1.0        1.0  ...         0.7         0.8   \n",
       "4        0.8        0.8        0.8        0.8  ...         0.7         1.0   \n",
       "\n",
       "   product_13  product_14  product_15  product_16  product_17  product_18  \\\n",
       "0         0.7         0.8         0.9         0.7         0.8         0.8   \n",
       "1         1.0         0.8         0.6         0.9         0.9         0.7   \n",
       "2         0.7         0.7         1.0         0.8         0.7         1.0   \n",
       "3         0.8         0.7         0.8         0.7         0.6         0.9   \n",
       "4         0.7         0.8         0.7         0.9         0.7         0.6   \n",
       "\n",
       "   product_19       sales  \n",
       "0         0.7  552.778377  \n",
       "1         0.9  571.089023  \n",
       "2         0.7  521.181038  \n",
       "3         0.9  550.292586  \n",
       "4         0.9  548.764655  \n",
       "\n",
       "[5 rows x 21 columns]"
      ]
     },
     "execution_count": 262,
     "metadata": {},
     "output_type": "execute_result"
    }
   ],
   "source": [
    "# 列名を作成\n",
    "columns = []\n",
    "for m in range(M):\n",
    "    columns.append(\"product_\" + str(m))\n",
    "\n",
    "# データフレームを作成\n",
    "df_price = pd.DataFrame(price_list, columns=columns)\n",
    "\n",
    "# 売上を追加\n",
    "df_price[\"sales\"] = sales_list\n",
    "\n",
    "# 売上をfloatに\n",
    "df_price[\"sales\"] = df_price[\"sales\"].astype(float)\n",
    "\n",
    "df_price.head()"
   ]
  },
  {
   "cell_type": "code",
   "execution_count": 273,
   "metadata": {},
   "outputs": [
    {
     "data": {
      "text/plain": [
       "25.762853260279307"
      ]
     },
     "execution_count": 273,
     "metadata": {},
     "output_type": "execute_result"
    }
   ],
   "source": [
    "(sum(beta[0] * df_price.iloc[0, :-1]) + alpha[0]) * df_price.iloc[0, 0]"
   ]
  },
  {
   "cell_type": "code",
   "execution_count": 263,
   "metadata": {},
   "outputs": [],
   "source": [
    "# データを説明変数と目的変数に分割\n",
    "X = df_price.drop(\"sales\", axis=1)\n",
    "Y = df_price[\"sales\"]\n",
    "\n",
    "# 訓練データとテストデータに分割\n",
    "X_train, X_test, Y_train, Y_test = train_test_split(X, Y, test_size=0.2, random_state=0)"
   ]
  },
  {
   "cell_type": "code",
   "execution_count": 264,
   "metadata": {},
   "outputs": [
    {
     "name": "stdout",
     "output_type": "stream",
     "text": [
      "[15.75950099 25.76519263 43.43308081 37.57435152 38.0351864  40.70987246\n",
      " 38.51866514 27.69502086 52.50349597 16.38732669 20.80880592 28.68305719\n",
      " 17.64959562 19.50512753 36.15046458 -2.01702816 22.47229135 30.06229371\n",
      " 19.90668386 14.63708222]\n",
      "117.5444971560454\n",
      "Gurobi Optimizer version 11.0.3 build v11.0.3rc0 (win64 - Windows 11.0 (22631.2))\n",
      "\n",
      "CPU model: Intel(R) Core(TM) i7-1065G7 CPU @ 1.30GHz, instruction set [SSE2|AVX|AVX2|AVX512]\n",
      "Thread count: 4 physical cores, 8 logical processors, using up to 8 threads\n",
      "\n",
      "Optimize a model with 0 rows, 20 columns and 0 nonzeros\n",
      "Model fingerprint: 0x0c13e31d\n",
      "Coefficient statistics:\n",
      "  Matrix range     [0e+00, 0e+00]\n",
      "  Objective range  [2e+00, 5e+01]\n",
      "  Bounds range     [6e-01, 1e+00]\n",
      "  RHS range        [0e+00, 0e+00]\n",
      "Presolve removed 0 rows and 20 columns\n",
      "Presolve time: 0.01s\n",
      "Presolve: All rows and columns removed\n",
      "Iteration    Objective       Primal Inf.    Dual Inf.      Time\n",
      "       0    6.6259138e+02   0.000000e+00   0.000000e+00      0s\n",
      "\n",
      "Solved in 0 iterations and 0.01 seconds (0.00 work units)\n",
      "Optimal objective  6.625913757e+02\n",
      "Optimal prices:\n",
      "product_0: 1.0\n",
      "product_1: 1.0\n",
      "product_2: 1.0\n",
      "product_3: 1.0\n",
      "product_4: 1.0\n",
      "product_5: 1.0\n",
      "product_6: 1.0\n",
      "product_7: 1.0\n",
      "product_8: 1.0\n",
      "product_9: 1.0\n",
      "product_10: 1.0\n",
      "product_11: 1.0\n",
      "product_12: 1.0\n",
      "product_13: 1.0\n",
      "product_14: 1.0\n",
      "product_15: 0.6\n",
      "product_16: 1.0\n",
      "product_17: 1.0\n",
      "product_18: 1.0\n",
      "product_19: 1.0\n",
      "Optimal sales:\n",
      "662.5913757175813\n"
     ]
    },
    {
     "data": {
      "text/plain": [
       "661.1979805839039"
      ]
     },
     "execution_count": 264,
     "metadata": {},
     "output_type": "execute_result"
    }
   ],
   "source": [
    "# 売上の線形回帰式を学習\n",
    "lr = LinearRegression()\n",
    "lr.fit(X_train, Y_train)\n",
    "\n",
    "# 係数と切片を取得\n",
    "coef = lr.coef_\n",
    "intercept = lr.intercept_\n",
    "\n",
    "print(coef)\n",
    "print(intercept)\n",
    "\n",
    "# gurobiでこの線形回帰式を最大化\n",
    "\n",
    "# モデルの作成\n",
    "m = gp.Model(\"max_sales\")\n",
    "\n",
    "# 変数の作成\n",
    "prices = m.addVars(M, lb=r_m, ub=r_M, name=\"prices\")\n",
    "\n",
    "# 目的関数の設定\n",
    "m.setObjective(gp.quicksum(coef[i] * prices[i] for i in range(M)) + intercept, GRB.MAXIMIZE)\n",
    "\n",
    "# 最適化\n",
    "m.optimize()\n",
    "\n",
    "# 結果の表示\n",
    "print(\"Optimal prices:\")\n",
    "for i in range(M):\n",
    "    print(f\"product_{i}: {prices[i].X}\")\n",
    "\n",
    "print(\"Optimal sales:\")\n",
    "print(m.objVal)\n",
    "optimal_sales = m.objVal\n",
    "# pricesを取得\n",
    "prices_list = []\n",
    "for i in range(M):\n",
    "    prices_list.append(prices[i].X)\n",
    "\n",
    "# sales_functionにprices_listを代入\n",
    "dash_sales = sales_function(prices_list, alpha, beta)\n",
    "dash_sales"
   ]
  },
  {
   "cell_type": "code",
   "execution_count": 265,
   "metadata": {},
   "outputs": [
    {
     "name": "stdout",
     "output_type": "stream",
     "text": [
      "Gurobi Optimizer version 11.0.3 build v11.0.3rc0 (win64 - Windows 11.0 (22631.2))\n",
      "\n",
      "CPU model: Intel(R) Core(TM) i7-1065G7 CPU @ 1.30GHz, instruction set [SSE2|AVX|AVX2|AVX512]\n",
      "Thread count: 4 physical cores, 8 logical processors, using up to 8 threads\n",
      "\n"
     ]
    },
    {
     "name": "stdout",
     "output_type": "stream",
     "text": [
      "Optimize a model with 0 rows, 20 columns and 0 nonzeros\n",
      "Model fingerprint: 0xda503234\n",
      "Model has 210 quadratic objective terms\n",
      "Coefficient statistics:\n",
      "  Matrix range     [0e+00, 0e+00]\n",
      "  Objective range  [3e+01, 6e+01]\n",
      "  QObjective range [5e-01, 8e+01]\n",
      "  Bounds range     [6e-01, 1e+00]\n",
      "  RHS range        [0e+00, 0e+00]\n",
      "Presolve time: 0.01s\n",
      "Presolved: 0 rows, 20 columns, 0 nonzeros\n",
      "Presolved model has 210 quadratic objective terms\n",
      "Ordering time: 0.00s\n",
      "\n",
      "Barrier statistics:\n",
      " Free vars  : 19\n",
      " AA' NZ     : 1.710e+02\n",
      " Factor NZ  : 1.900e+02\n",
      " Factor Ops : 2.470e+03 (less than 1 second per iteration)\n",
      " Threads    : 1\n",
      "\n",
      "                  Objective                Residual\n",
      "Iter       Primal          Dual         Primal    Dual     Compl     Time\n",
      "   0  -2.06280713e+07  2.19740603e+07  1.00e+03 6.69e+02  1.00e+06     0s\n",
      "   1   1.29866715e+03  5.12389509e+05  8.58e-01 6.21e-01  1.13e+03     0s\n",
      "   2   5.60876222e+02  3.48585692e+05  8.18e-07 6.21e-07  1.36e+02     0s\n",
      "   3   5.60999987e+02  1.12105813e+03  4.99e-10 3.79e-10  2.19e-01     0s\n",
      "   4   6.16523259e+02  6.69592722e+02  2.43e-12 1.85e-12  2.07e-02     0s\n",
      "   5   6.61974788e+02  6.65340238e+02  1.67e-16 2.22e-16  1.31e-03     0s\n",
      "   6   6.63570893e+02  6.63593024e+02  1.11e-16 2.22e-16  8.64e-06     0s\n",
      "   7   6.63590862e+02  6.63590884e+02  1.11e-16 2.22e-16  8.65e-09     0s\n",
      "   8   6.63590882e+02  6.63590882e+02  1.11e-16 2.22e-16  8.66e-12     0s\n",
      "\n",
      "Barrier solved model in 8 iterations and 0.04 seconds (0.00 work units)\n",
      "Optimal objective 6.63590882e+02\n",
      "\n",
      "Optimal prices:\n",
      "product_0: 0.9999999985619372\n",
      "product_1: 0.9999999999986531\n",
      "product_2: 0.9999999999990369\n",
      "product_3: 0.9999999999990046\n",
      "product_4: 0.9999999999989557\n",
      "product_5: 0.9999999999990369\n",
      "product_6: 0.9999999999989092\n",
      "product_7: 0.9999999999969653\n",
      "product_8: 0.9999999999992865\n",
      "product_9: 0.9999999997246195\n",
      "product_10: 0.9999999999253515\n",
      "product_11: 0.9999999999984124\n",
      "product_12: 0.9999999999941318\n",
      "product_13: 0.9999999998740072\n",
      "product_14: 0.9999999999988578\n",
      "product_15: 0.8505971083057182\n",
      "product_16: 0.9999999999844669\n",
      "product_17: 0.9999999999985401\n",
      "product_18: 0.9999999999928495\n",
      "product_19: 0.9999999997165476\n",
      "Optimal sales:\n",
      "663.5908815920055\n"
     ]
    }
   ],
   "source": [
    "# sales_functionの最適化\n",
    "\n",
    "# モデルの作成\n",
    "model = gp.Model(\"max_sales\")\n",
    "\n",
    "# 変数の作成\n",
    "prices = model.addVars(M, lb=r_m, ub=r_M, name=\"prices\")\n",
    "\n",
    "# 目的関数の定義\n",
    "objective = gp.quicksum(\n",
    "    (alpha[i] + gp.quicksum(beta[i][j] * prices[j] for j in range(M))) * prices[i]\n",
    "    for i in range(M)\n",
    ")\n",
    "\n",
    "model.setObjective(objective, GRB.MAXIMIZE)\n",
    "\n",
    "# 最適化\n",
    "model.optimize()\n",
    "\n",
    "# 結果の表示\n",
    "print(\"Optimal prices:\")\n",
    "for i in range(M):\n",
    "    print(f\"product_{i}: {prices[i].X}\")\n",
    "\n",
    "print(\"Optimal sales:\")\n",
    "print(model.objVal)\n",
    "\n",
    "true_optimal_sales = model.objVal"
   ]
  },
  {
   "cell_type": "code",
   "execution_count": 245,
   "metadata": {},
   "outputs": [
    {
     "data": {
      "text/plain": [
       "[1.0,\n",
       " 1.0,\n",
       " 1.0,\n",
       " 1.0,\n",
       " 1.0,\n",
       " 1.0,\n",
       " 1.0,\n",
       " 1.0,\n",
       " 1.0,\n",
       " 1.0,\n",
       " 1.0,\n",
       " 1.0,\n",
       " 1.0,\n",
       " 1.0,\n",
       " 1.0,\n",
       " 1.0,\n",
       " 1.0,\n",
       " 1.0,\n",
       " 1.0,\n",
       " 1.0]"
      ]
     },
     "execution_count": 245,
     "metadata": {},
     "output_type": "execute_result"
    }
   ],
   "source": [
    "prices_list"
   ]
  },
  {
   "cell_type": "code",
   "execution_count": 246,
   "metadata": {},
   "outputs": [
    {
     "data": {
      "text/plain": [
       "574.5189866069775"
      ]
     },
     "execution_count": 246,
     "metadata": {},
     "output_type": "execute_result"
    }
   ],
   "source": [
    "# sales_functionにprices_listを代入\n",
    "dash_sales = sales_function(prices_list, alpha, beta)\n",
    "dash_sales"
   ]
  },
  {
   "cell_type": "code",
   "execution_count": 247,
   "metadata": {},
   "outputs": [
    {
     "data": {
      "image/png": "[encoded data removed]",
      "text/plain": [
       "<Figure size 640x480 with 1 Axes>"
      ]
     },
     "metadata": {},
     "output_type": "display_data"
    }
   ],
   "source": [
    "plt.bar(\n",
    "    [r\"$f(\\hat{z},\\hat\\theta)$\", r\"$f(z^*,\\theta^*)$\", r\"$f(\\hat{z},\\theta^*)$\"],\n",
    "    [\n",
    "        true_optimal_sales / true_optimal_sales,\n",
    "        optimal_sales / true_optimal_sales,\n",
    "        dash_sales / true_optimal_sales,\n",
    "    ],\n",
    "    color=[\"red\", \"blue\", \"green\"],\n",
    ")\n",
    "plt.yscale(\"log\")\n",
    "\n",
    "plt.show()"
   ]
  },
  {
   "cell_type": "code",
   "execution_count": 248,
   "metadata": {},
   "outputs": [
    {
     "data": {
      "text/plain": [
       "array([22.5889235 , 52.82663214, 45.59471247, 36.04555313, 35.27890856,\n",
       "       37.69089416, 29.03708249, 51.62193769, 23.4994387 , 45.21543314,\n",
       "       26.72272182, 40.76365406, 50.78734   , 31.94292733, 20.5795128 ,\n",
       "       43.05510222, 59.96329289, 39.057819  , 45.89033426, 34.69480711])"
      ]
     },
     "execution_count": 248,
     "metadata": {},
     "output_type": "execute_result"
    }
   ],
   "source": [
    "alpha"
   ]
  },
  {
   "cell_type": "code",
   "execution_count": 255,
   "metadata": {},
   "outputs": [
    {
     "name": "stdout",
     "output_type": "stream",
     "text": [
      "Gurobi Optimizer version 11.0.3 build v11.0.3rc0 (win64 - Windows 11.0 (22631.2))\n",
      "\n",
      "CPU model: Intel(R) Core(TM) i7-1065G7 CPU @ 1.30GHz, instruction set [SSE2|AVX|AVX2|AVX512]\n",
      "Thread count: 4 physical cores, 8 logical processors, using up to 8 threads\n",
      "\n",
      "Optimize a model with 0 rows, 20 columns and 0 nonzeros\n",
      "Model fingerprint: 0xf976a0b7\n",
      "Coefficient statistics:\n",
      "  Matrix range     [0e+00, 0e+00]\n",
      "  Objective range  [6e+00, 5e+01]\n",
      "  Bounds range     [6e-01, 1e+00]\n",
      "  RHS range        [0e+00, 0e+00]\n",
      "Presolve removed 0 rows and 20 columns\n",
      "Presolve time: 0.01s\n",
      "Presolve: All rows and columns removed\n",
      "Iteration    Objective       Primal Inf.    Dual Inf.      Time\n",
      "       0    5.7926698e+02   0.000000e+00   0.000000e+00      0s\n",
      "\n",
      "Solved in 0 iterations and 0.01 seconds (0.00 work units)\n",
      "Optimal objective  5.792669795e+02\n",
      "Optimal prices:\n",
      "product_0: 1.0\n",
      "product_1: 1.0\n",
      "product_2: 1.0\n",
      "product_3: 1.0\n",
      "product_4: 1.0\n",
      "product_5: 1.0\n",
      "product_6: 1.0\n",
      "product_7: 1.0\n",
      "product_8: 1.0\n",
      "product_9: 1.0\n",
      "product_10: 1.0\n",
      "product_11: 1.0\n",
      "product_12: 1.0\n",
      "product_13: 1.0\n",
      "product_14: 1.0\n",
      "product_15: 1.0\n",
      "product_16: 1.0\n",
      "product_17: 1.0\n",
      "product_18: 1.0\n",
      "product_19: 1.0\n",
      "Gurobi Optimizer version 11.0.3 build v11.0.3rc0 (win64 - Windows 11.0 (22631.2))\n",
      "\n",
      "CPU model: Intel(R) Core(TM) i7-1065G7 CPU @ 1.30GHz, instruction set [SSE2|AVX|AVX2|AVX512]\n",
      "Thread count: 4 physical cores, 8 logical processors, using up to 8 threads\n",
      "\n",
      "Optimize a model with 0 rows, 20 columns and 0 nonzeros\n",
      "Model fingerprint: 0x1cc928b2\n",
      "Coefficient statistics:\n",
      "  Matrix range     [0e+00, 0e+00]\n",
      "  Objective range  [6e+00, 5e+01]\n",
      "  Bounds range     [6e-01, 1e+00]\n",
      "  RHS range        [0e+00, 0e+00]\n",
      "Presolve removed 0 rows and 20 columns\n",
      "Presolve time: 0.01s\n",
      "Presolve: All rows and columns removed\n",
      "Iteration    Objective       Primal Inf.    Dual Inf.      Time\n",
      "       0    5.7959679e+02   0.000000e+00   0.000000e+00      0s\n",
      "\n",
      "Solved in 0 iterations and 0.01 seconds (0.00 work units)\n",
      "Optimal objective  5.795967907e+02\n",
      "Optimal prices:\n",
      "product_0: 1.0\n",
      "product_1: 1.0\n",
      "product_2: 1.0\n",
      "product_3: 1.0\n",
      "product_4: 1.0\n",
      "product_5: 1.0\n",
      "product_6: 1.0\n",
      "product_7: 1.0\n",
      "product_8: 1.0\n",
      "product_9: 1.0\n",
      "product_10: 1.0\n",
      "product_11: 1.0\n",
      "product_12: 1.0\n",
      "product_13: 1.0\n",
      "product_14: 1.0\n",
      "product_15: 1.0\n",
      "product_16: 1.0\n",
      "product_17: 1.0\n",
      "product_18: 1.0\n",
      "product_19: 1.0\n"
     ]
    },
    {
     "name": "stderr",
     "output_type": "stream",
     "text": [
      "c:\\Users\\m-kum\\kaggle\\experiment1\\.venv\\lib\\site-packages\\sklearn\\base.py:493: UserWarning: X does not have valid feature names, but LinearRegression was fitted with feature names\n",
      "  warnings.warn(\n",
      "c:\\Users\\m-kum\\kaggle\\experiment1\\.venv\\lib\\site-packages\\sklearn\\base.py:493: UserWarning: X does not have valid feature names, but LinearRegression was fitted with feature names\n",
      "  warnings.warn(\n"
     ]
    }
   ],
   "source": [
    "K = 2\n",
    "kf = KFold(n_splits=K, shuffle=True, random_state=0)\n",
    "k_list = []\n",
    "# 訓練データとテストデータをkfで分割\n",
    "for train_index, test_index in kf.split(X):\n",
    "    X_train, X_test = X.iloc[train_index], X.iloc[test_index]\n",
    "    Y_train, Y_test = Y.iloc[train_index], Y.iloc[test_index]\n",
    "\n",
    "    # 訓練データで線形回帰を学習し切片、計数を取得、最適化を行い、最適な価格を取得\n",
    "    lr_tilda = LinearRegression()\n",
    "    lr_tilda.fit(X_test, Y_test)\n",
    "    coef = lr_tilda.coef_\n",
    "    intercept = lr_tilda.intercept_\n",
    "\n",
    "    # モデルの作成\n",
    "    m = gp.Model(\"max_sales\")\n",
    "\n",
    "    # 変数の作成\n",
    "    prices = m.addVars(M, lb=r_m, ub=r_M, name=\"prices\")\n",
    "\n",
    "    # 目的関数の設定\n",
    "    m.setObjective(gp.quicksum(coef[i] * prices[i] for i in range(M)) + intercept, GRB.MAXIMIZE)\n",
    "\n",
    "    # 最適化\n",
    "    m.optimize()\n",
    "\n",
    "    # 価格を取得 価格を取得\n",
    "    optimal_prices = np.array([prices[i].X for i in range(M)]).reshape(1, -1)\n",
    "\n",
    "    # 最適解を表示\n",
    "    print(\"Optimal prices:\")\n",
    "    for i in range(M):\n",
    "        print(f\"product_{i}: {prices[i].X}\")\n",
    "\n",
    "    # テストデータから回帰式を作成\n",
    "    lr_hat = LinearRegression()\n",
    "    lr_hat.fit(X_train, Y_train)\n",
    "\n",
    "    # 回帰式に最適な価格を代入\n",
    "    prices_hat = lr_hat.predict(optimal_prices)\n",
    "\n",
    "    # k_listに追加\n",
    "    k_list.append(prices_hat)\n",
    "\n",
    "avg_k_list = np.mean(k_list)\n"
   ]
  },
  {
   "cell_type": "code",
   "execution_count": 250,
   "metadata": {},
   "outputs": [
    {
     "data": {
      "text/plain": [
       "579.431885129381"
      ]
     },
     "execution_count": 250,
     "metadata": {},
     "output_type": "execute_result"
    }
   ],
   "source": [
    "np.mean(k_list)"
   ]
  },
  {
   "cell_type": "code",
   "execution_count": null,
   "metadata": {},
   "outputs": [],
   "source": []
  },
  {
   "cell_type": "code",
   "execution_count": 251,
   "metadata": {},
   "outputs": [
    {
     "data": {
      "image/png": "[encoded data removed]",
      "text/plain": [
       "<Figure size 640x480 with 1 Axes>"
      ]
     },
     "metadata": {},
     "output_type": "display_data"
    }
   ],
   "source": [
    "plt.bar(\n",
    "    [r\"$f(\\hat{z},\\hat\\theta)$\", r\"$f(z^*,\\theta^*)$\", r\"$f(\\hat{z},\\theta^*)$\", r\"k-fold\"],\n",
    "    [\n",
    "        true_optimal_sales / true_optimal_sales,\n",
    "        optimal_sales / true_optimal_sales,\n",
    "        dash_sales / true_optimal_sales,\n",
    "        avg_k_list / true_optimal_sales,\n",
    "    ],\n",
    "    color=[\"red\", \"blue\", \"green\", \"orange\"],\n",
    ")\n",
    "plt.yscale(\"log\")\n",
    "\n",
    "plt.show()\n"
   ]
  },
  {
   "cell_type": "code",
   "execution_count": 252,
   "metadata": {},
   "outputs": [
    {
     "data": {
      "text/plain": [
       "False"
      ]
     },
     "execution_count": 252,
     "metadata": {},
     "output_type": "execute_result"
    }
   ],
   "source": [
    "dash_sales == avg_k_list"
   ]
  },
  {
   "cell_type": "code",
   "execution_count": 253,
   "metadata": {},
   "outputs": [
    {
     "data": {
      "text/plain": [
       "False"
      ]
     },
     "execution_count": 253,
     "metadata": {},
     "output_type": "execute_result"
    }
   ],
   "source": [
    "optimal_sales == dash_sales"
   ]
  },
  {
   "cell_type": "code",
   "execution_count": 254,
   "metadata": {},
   "outputs": [
    {
     "data": {
      "text/plain": [
       "False"
      ]
     },
     "execution_count": 254,
     "metadata": {},
     "output_type": "execute_result"
    }
   ],
   "source": [
    "optimal_sales == avg_k_list"
   ]
  },
  {
   "cell_type": "code",
   "execution_count": null,
   "metadata": {},
   "outputs": [],
   "source": []
  }
 ],
 "metadata": {
  "kernelspec": {
   "display_name": ".venv",
   "language": "python",
   "name": "python3"
  },
  "language_info": {
   "codemirror_mode": {
    "name": "ipython",
    "version": 3
   },
   "file_extension": ".py",
   "mimetype": "text/x-python",
   "name": "python",
   "nbconvert_exporter": "python",
   "pygments_lexer": "ipython3",
   "version": "3.10.13"
  }
 },
 "nbformat": 4,
 "nbformat_minor": 2
}
